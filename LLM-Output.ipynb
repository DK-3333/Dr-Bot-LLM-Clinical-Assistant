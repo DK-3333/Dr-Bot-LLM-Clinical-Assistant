{
 "cells": [
  {
   "cell_type": "markdown",
   "metadata": {},
   "source": [
    "# Dr.Bot Project \n",
    "\n",
    "Here we will test the output response of the user query, by initiating the Dr Bot LLM model package."
   ]
  },
  {
   "cell_type": "code",
   "execution_count": 1,
   "metadata": {
    "execution": {
     "iopub.execute_input": "2025-08-13T01:36:15.590840Z",
     "iopub.status.busy": "2025-08-13T01:36:15.590552Z",
     "iopub.status.idle": "2025-08-13T01:42:36.800681Z",
     "shell.execute_reply": "2025-08-13T01:42:36.796143Z",
     "shell.execute_reply.started": "2025-08-13T01:36:15.590811Z"
    },
    "trusted": true
   },
   "outputs": [
    {
     "name": "stdout",
     "output_type": "stream",
     "text": [
      "Installing python dependencies for Package 'kagglehub_package_dhyeyk29_team_alfha_export_package_code_10', logging progress to '/tmp/kagglehub-package-dependencies-install-0uwiq7o5.txt'.\n"
     ]
    },
    {
     "name": "stderr",
     "output_type": "stream",
     "text": [
      "2025-08-13 01:36:55.633219: E external/local_xla/xla/stream_executor/cuda/cuda_fft.cc:477] Unable to register cuFFT factory: Attempting to register factory for plugin cuFFT when one has already been registered\n",
      "WARNING: All log messages before absl::InitializeLog() is called are written to STDERR\n",
      "E0000 00:00:1755049015.840766      36 cuda_dnn.cc:8310] Unable to register cuDNN factory: Attempting to register factory for plugin cuDNN when one has already been registered\n",
      "E0000 00:00:1755049015.902254      36 cuda_blas.cc:1418] Unable to register cuBLAS factory: Attempting to register factory for plugin cuBLAS when one has already been registered\n"
     ]
    },
    {
     "data": {
      "application/vnd.jupyter.widget-view+json": {
       "model_id": "618d21c3e5374fdb8470138b14635762",
       "version_major": 2,
       "version_minor": 0
      },
      "text/plain": [
       "Loading checkpoint shards:   0%|          | 0/2 [00:00<?, ?it/s]"
      ]
     },
     "metadata": {},
     "output_type": "display_data"
    },
    {
     "name": "stderr",
     "output_type": "stream",
     "text": [
      "Asking to truncate to max_length but no maximum length is provided and the model has no predefined maximum length. Default to no truncation.\n"
     ]
    },
    {
     "name": "stdout",
     "output_type": "stream",
     "text": [
      "It is normal for some people to experience lingering symptoms after completing a course of antibiotics. However, if your ear pain persists or worsens after 3 days of taking amoxicillin, it is important to seek medical attention. This could be a sign of an underlying infection or complication that requires further treatment. In the meantime, you can try over-the-counter pain relievers such as acetaminophen or ibuprofen to manage your symptoms.\n"
     ]
    }
   ],
   "source": [
    "import kagglehub\n",
    "# Replace the link with the URL to YOUR notebook package\n",
    "package = kagglehub.package_import('dhyeyk29/team-alfha-export-package-code/versions/10')\n",
    "model = package.Model() # This will initialize and load the model with pre-trained weights\n",
    "response = model.predict(\"I’ve been on amoxicillin for 3 days and my ear still hurts. Is that normal?\")\n",
    "print(response)"
   ]
  }
 ],
 "metadata": {
  "kaggle": {
   "accelerator": "none",
   "dataSources": [
    {
     "datasetId": 8057720,
     "isSourceIdPinned": true,
     "sourceId": 12746475,
     "sourceType": "datasetVersion"
    },
    {
     "sourceId": 255678353,
     "sourceType": "kernelVersion"
    },
    {
     "sourceId": 255678355,
     "sourceType": "kernelVersion"
    },
    {
     "modelId": 1902,
     "modelInstanceId": 3900,
     "sourceId": 5112,
     "sourceType": "modelInstanceVersion"
    },
    {
     "modelId": 426472,
     "modelInstanceId": 408614,
     "sourceId": 518825,
     "sourceType": "modelInstanceVersion"
    },
    {
     "modelId": 426473,
     "modelInstanceId": 408615,
     "sourceId": 518827,
     "sourceType": "modelInstanceVersion"
    }
   ],
   "dockerImageVersionId": 31089,
   "isGpuEnabled": false,
   "isInternetEnabled": false,
   "language": "python",
   "sourceType": "notebook"
  },
  "kernelspec": {
   "display_name": "Python 3",
   "language": "python",
   "name": "python3"
  },
  "language_info": {
   "codemirror_mode": {
    "name": "ipython",
    "version": 3
   },
   "file_extension": ".py",
   "mimetype": "text/x-python",
   "name": "python",
   "nbconvert_exporter": "python",
   "pygments_lexer": "ipython3",
   "version": "3.11.13"
  }
 },
 "nbformat": 4,
 "nbformat_minor": 4
}
